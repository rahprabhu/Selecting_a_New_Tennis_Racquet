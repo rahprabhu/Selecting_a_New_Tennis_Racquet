{
 "cells": [
  {
   "cell_type": "markdown",
   "id": "729c4699",
   "metadata": {},
   "source": [
    "# Web Scraping Tennis Racquet Data\n",
    "\n",
    "I am web scraping data on tennis racquets from Tennis Warehouse to help me make a decision on the next tennis racquet that I buy. After acquiring the data, I will do most of my analysis in Tableau."
   ]
  },
  {
   "cell_type": "markdown",
   "id": "b80ad894",
   "metadata": {},
   "source": [
    "### Importing Packages"
   ]
  },
  {
   "cell_type": "code",
   "execution_count": 1,
   "id": "5d554052",
   "metadata": {},
   "outputs": [],
   "source": [
    "import requests\n",
    "from bs4 import BeautifulSoup\n",
    "import pandas as pd\n",
    "import numpy as np\n",
    "import warnings\n",
    "warnings.filterwarnings('ignore')\n",
    "import matplotlib.pyplot as plt\n",
    "import seaborn as sns\n",
    "sns.set()\n",
    "\n",
    "pd.set_option('max_colwidth', None)"
   ]
  },
  {
   "cell_type": "markdown",
   "id": "0b67b707",
   "metadata": {},
   "source": [
    "### Racquet Links\n",
    "\n",
    "Scraping each of the racquet brand pages to get links to the racquet pages for each brand"
   ]
  },
  {
   "cell_type": "code",
   "execution_count": 2,
   "id": "11bc684b",
   "metadata": {},
   "outputs": [],
   "source": [
    "headers = {\n",
    "    'User-Agent': 'https://developers.whatismybrowser.com/useragents/parse/1252728chrome-windows-blink' \n",
    "}\n",
    "\n",
    "brand_urls = ['https://www.tennis-warehouse.com/Babolatracquets.html',\n",
    "               'https://www.tennis-warehouse.com/Wilsonracquets.html',\n",
    "               'https://www.tennis-warehouse.com/Headracquets.html',\n",
    "             'https://www.tennis-warehouse.com/Princeracquets.html',\n",
    "              'https://www.tennis-warehouse.com/Yonexracquets.html',\n",
    "             'https://www.tennis-warehouse.com/Dunlopracquets.html',\n",
    "             'https://www.tennis-warehouse.com/Tecnifibreracquets.html']"
   ]
  },
  {
   "cell_type": "code",
   "execution_count": 3,
   "id": "3e323ed2",
   "metadata": {},
   "outputs": [],
   "source": [
    "racquet_links = []\n",
    "for url in brand_urls:\n",
    "\n",
    "    page = requests.get(url, headers = headers).text\n",
    "    soup=BeautifulSoup(page,'html.parser')\n",
    "    racquet_list = soup.find_all('div' ,{'class':\"cattable-wrap-cell-tagline_info\"})\n",
    "    for racquet in racquet_list:\n",
    "        link = racquet.find('a', {'class':'cattable-wrap-cell-info'}).get('href')\n",
    "        racquet_links.append(link)"
   ]
  },
  {
   "cell_type": "code",
   "execution_count": 4,
   "id": "722f29b2",
   "metadata": {},
   "outputs": [],
   "source": [
    "# Removing links that aren't for racquets and links that are for junior racquets\n",
    "racquet_links = [x for x in racquet_links if 'www.tennis-warehouse' in x \n",
    "                 and 'Junior' not in x \n",
    "                and 'podcast' not in x\n",
    "                and 'Pack' not in x]"
   ]
  },
  {
   "cell_type": "markdown",
   "id": "28d750c4",
   "metadata": {},
   "source": [
    "### Racquet Name & Price\n",
    "Getting the racquet names and prices using the racquet links we scraped above"
   ]
  },
  {
   "cell_type": "code",
   "execution_count": 5,
   "id": "997e7e16",
   "metadata": {},
   "outputs": [],
   "source": [
    "data = []\n",
    "for link in racquet_links:\n",
    "    response = requests.get(link, headers = headers)\n",
    "    soup = BeautifulSoup(response.text, 'html.parser')\n",
    "    \n",
    "    title = soup.find('h1' ,itemprop='name')\n",
    "    name = title.string\n",
    "    \n",
    "    price_info = soup.find('span', {'class':'afterpay-full_price'})\n",
    "    price = price_info.text\n",
    "    \n",
    "    racquet_dict = {'Racquet':name, 'Price':price, 'Link':link}\n",
    "    data.append(racquet_dict)"
   ]
  },
  {
   "cell_type": "code",
   "execution_count": 6,
   "id": "ed7ab9e2",
   "metadata": {},
   "outputs": [
    {
     "data": {
      "text/html": [
       "<div>\n",
       "<style scoped>\n",
       "    .dataframe tbody tr th:only-of-type {\n",
       "        vertical-align: middle;\n",
       "    }\n",
       "\n",
       "    .dataframe tbody tr th {\n",
       "        vertical-align: top;\n",
       "    }\n",
       "\n",
       "    .dataframe thead th {\n",
       "        text-align: right;\n",
       "    }\n",
       "</style>\n",
       "<table border=\"1\" class=\"dataframe\">\n",
       "  <thead>\n",
       "    <tr style=\"text-align: right;\">\n",
       "      <th></th>\n",
       "      <th>Racquet</th>\n",
       "      <th>Price</th>\n",
       "      <th>Link</th>\n",
       "    </tr>\n",
       "  </thead>\n",
       "  <tbody>\n",
       "    <tr>\n",
       "      <th>0</th>\n",
       "      <td>Babolat Pure Aero</td>\n",
       "      <td>239.00</td>\n",
       "      <td>https://www.tennis-warehouse.com/Babolat_Pure_Aero/descpageRCBAB-BPAR.html</td>\n",
       "    </tr>\n",
       "    <tr>\n",
       "      <th>1</th>\n",
       "      <td>Babolat Pure Aero Rafa</td>\n",
       "      <td>259.00</td>\n",
       "      <td>https://www.tennis-warehouse.com/Babolat_Pure_Aero_Rafa/descpageRCBAB-BPARR.html</td>\n",
       "    </tr>\n",
       "    <tr>\n",
       "      <th>2</th>\n",
       "      <td>Babolat Pure Aero VS</td>\n",
       "      <td>279.00</td>\n",
       "      <td>https://www.tennis-warehouse.com/Babolat_Pure_Aero_VS/descpageRCBAB-BPAVSR.html</td>\n",
       "    </tr>\n",
       "    <tr>\n",
       "      <th>3</th>\n",
       "      <td>Babolat Pure Aero Rafa Team</td>\n",
       "      <td>229.00</td>\n",
       "      <td>https://www.tennis-warehouse.com/Babolat_Pure_Aero_Rafa_Team/descpageRCBAB-BPARTR.html</td>\n",
       "    </tr>\n",
       "    <tr>\n",
       "      <th>4</th>\n",
       "      <td>Babolat Pure Aero Rafa Lite</td>\n",
       "      <td>229.00</td>\n",
       "      <td>https://www.tennis-warehouse.com/Babolat_Pure_Aero_Rafa_Lite/descpageRCBAB-BPARLR.html</td>\n",
       "    </tr>\n",
       "  </tbody>\n",
       "</table>\n",
       "</div>"
      ],
      "text/plain": [
       "                       Racquet   Price  \\\n",
       "0            Babolat Pure Aero  239.00   \n",
       "1       Babolat Pure Aero Rafa  259.00   \n",
       "2         Babolat Pure Aero VS  279.00   \n",
       "3  Babolat Pure Aero Rafa Team  229.00   \n",
       "4  Babolat Pure Aero Rafa Lite  229.00   \n",
       "\n",
       "                                                                                     Link  \n",
       "0              https://www.tennis-warehouse.com/Babolat_Pure_Aero/descpageRCBAB-BPAR.html  \n",
       "1        https://www.tennis-warehouse.com/Babolat_Pure_Aero_Rafa/descpageRCBAB-BPARR.html  \n",
       "2         https://www.tennis-warehouse.com/Babolat_Pure_Aero_VS/descpageRCBAB-BPAVSR.html  \n",
       "3  https://www.tennis-warehouse.com/Babolat_Pure_Aero_Rafa_Team/descpageRCBAB-BPARTR.html  \n",
       "4  https://www.tennis-warehouse.com/Babolat_Pure_Aero_Rafa_Lite/descpageRCBAB-BPARLR.html  "
      ]
     },
     "execution_count": 6,
     "metadata": {},
     "output_type": "execute_result"
    }
   ],
   "source": [
    "racquet_info = pd.DataFrame(data)\n",
    "racquet_info.head()"
   ]
  },
  {
   "cell_type": "code",
   "execution_count": 7,
   "id": "bcba0010",
   "metadata": {},
   "outputs": [],
   "source": [
    "racquet_info['Price'] = racquet_info['Price'].astype(float)"
   ]
  },
  {
   "cell_type": "markdown",
   "id": "f4031e90",
   "metadata": {},
   "source": [
    "### Players Using Racquet\n",
    "Creating a dataframe that captures the professional players using each racquet"
   ]
  },
  {
   "cell_type": "code",
   "execution_count": 8,
   "id": "f5d25bdb",
   "metadata": {},
   "outputs": [],
   "source": [
    "dfs = []\n",
    "for link in racquet_links:\n",
    "    response = requests.get(link, headers = headers)\n",
    "    soup=BeautifulSoup(response.text,'html.parser')\n",
    "    player = soup.find_all('div',{'class':'cattable-wrap-cell-info-name'})\n",
    "    temp_df = pd.DataFrame(player)\n",
    "    temp_df['Link'] = link\n",
    "    dfs.append(temp_df)"
   ]
  },
  {
   "cell_type": "code",
   "execution_count": 9,
   "id": "29767112",
   "metadata": {},
   "outputs": [],
   "source": [
    "player_df = pd.concat(dfs)\n",
    "player_df.columns = ['Player', 'Link']"
   ]
  },
  {
   "cell_type": "code",
   "execution_count": 10,
   "id": "7f377693",
   "metadata": {},
   "outputs": [
    {
     "data": {
      "text/html": [
       "<div>\n",
       "<style scoped>\n",
       "    .dataframe tbody tr th:only-of-type {\n",
       "        vertical-align: middle;\n",
       "    }\n",
       "\n",
       "    .dataframe tbody tr th {\n",
       "        vertical-align: top;\n",
       "    }\n",
       "\n",
       "    .dataframe thead th {\n",
       "        text-align: right;\n",
       "    }\n",
       "</style>\n",
       "<table border=\"1\" class=\"dataframe\">\n",
       "  <thead>\n",
       "    <tr style=\"text-align: right;\">\n",
       "      <th></th>\n",
       "      <th>Player</th>\n",
       "      <th>Link</th>\n",
       "    </tr>\n",
       "  </thead>\n",
       "  <tbody>\n",
       "    <tr>\n",
       "      <th>0</th>\n",
       "      <td>Rafael Nadal</td>\n",
       "      <td>https://www.tennis-warehouse.com/Babolat_Pure_Aero/descpageRCBAB-BPAR.html</td>\n",
       "    </tr>\n",
       "    <tr>\n",
       "      <th>1</th>\n",
       "      <td>Felix Auger-Aliassime</td>\n",
       "      <td>https://www.tennis-warehouse.com/Babolat_Pure_Aero/descpageRCBAB-BPAR.html</td>\n",
       "    </tr>\n",
       "    <tr>\n",
       "      <th>2</th>\n",
       "      <td>Jennifer Brady</td>\n",
       "      <td>https://www.tennis-warehouse.com/Babolat_Pure_Aero/descpageRCBAB-BPAR.html</td>\n",
       "    </tr>\n",
       "    <tr>\n",
       "      <th>3</th>\n",
       "      <td>Danielle Collins</td>\n",
       "      <td>https://www.tennis-warehouse.com/Babolat_Pure_Aero/descpageRCBAB-BPAR.html</td>\n",
       "    </tr>\n",
       "    <tr>\n",
       "      <th>4</th>\n",
       "      <td>Leylah Fernandez</td>\n",
       "      <td>https://www.tennis-warehouse.com/Babolat_Pure_Aero/descpageRCBAB-BPAR.html</td>\n",
       "    </tr>\n",
       "  </tbody>\n",
       "</table>\n",
       "</div>"
      ],
      "text/plain": [
       "                  Player  \\\n",
       "0           Rafael Nadal   \n",
       "1  Felix Auger-Aliassime   \n",
       "2         Jennifer Brady   \n",
       "3       Danielle Collins   \n",
       "4       Leylah Fernandez   \n",
       "\n",
       "                                                                         Link  \n",
       "0  https://www.tennis-warehouse.com/Babolat_Pure_Aero/descpageRCBAB-BPAR.html  \n",
       "1  https://www.tennis-warehouse.com/Babolat_Pure_Aero/descpageRCBAB-BPAR.html  \n",
       "2  https://www.tennis-warehouse.com/Babolat_Pure_Aero/descpageRCBAB-BPAR.html  \n",
       "3  https://www.tennis-warehouse.com/Babolat_Pure_Aero/descpageRCBAB-BPAR.html  \n",
       "4  https://www.tennis-warehouse.com/Babolat_Pure_Aero/descpageRCBAB-BPAR.html  "
      ]
     },
     "execution_count": 10,
     "metadata": {},
     "output_type": "execute_result"
    }
   ],
   "source": [
    "player_df.head()"
   ]
  },
  {
   "cell_type": "code",
   "execution_count": 11,
   "id": "4dd25093",
   "metadata": {},
   "outputs": [
    {
     "data": {
      "text/plain": [
       "array(['Rafael Nadal', 'Felix Auger-Aliassime', 'Jennifer Brady',\n",
       "       'Danielle Collins', 'Leylah Fernandez', 'Johanna Konta',\n",
       "       'Bethanie Mattek-Sands', 'Head Graphene 360+ Extreme MP',\n",
       "       'Prince Textreme Warrior 100', 'Volkl V-Cell 10 300g',\n",
       "       'Yonex VCORE 100', 'Babolat Pure Aero Rafa 12 Pack Bag ',\n",
       "       'Babolat Pure Aero/+/Tour/Lite/Team 2019 Grommet',\n",
       "       'Babolat RPM Blast Orange 16/1.30 String',\n",
       "       \"Nike Men's Spring Rafa Heritage 86 Hat\",\n",
       "       'Babolat Pure Drive 2021', 'Prince Ripstick 100 300g',\n",
       "       'Babolat RPM Blast 16/1.30 String',\n",
       "       \"Nike Men's Core Rafa Heritage 86 Hat\", 'Carlos Alcaraz',\n",
       "       'Holger Rune', 'Babolat Pure Drive VS', 'Dunlop FX 500 Tour',\n",
       "       'Head Graphene 360+ Extreme Tour',\n",
       "       'Prince ATS Textreme Tour 100 310',\n",
       "       'Babolat Pure Aero VS 2020 Grommet',\n",
       "       'Babolat Pure Aero VS 9-Pack Bag', 'Babolat Xcel 16/1.30 String',\n",
       "       'Solinco Blackout 285', 'Yonex EZONE 100L 2022',\n",
       "       'Babolat Pro Tour Overgrips', 'Babolat Pure Aero Rafa 6 Pack Bag ',\n",
       "       'Babolat Pure Drive Lite 2021', 'Head Graphene XT Instinct S',\n",
       "       'Volkl V-Cell 6', 'Babolat Addixion 16/1.30 String',\n",
       "       'Babolat Addixion 17/1.25 String', 'Babolat Pure Drive Tour 2021',\n",
       "       'Babolat Pure Aero 12 Pack Bag Black/Yellow',\n",
       "       'Babolat RPM Blast Orange 17/1.25 String',\n",
       "       'Babolat Xcel Black 16/1.30 String', 'Sam Querrey',\n",
       "       'Jo-Wilfried Tsonga', 'Babolat Pure Drive Plus 2021',\n",
       "       'Yonex EZONE 100+', 'Yonex VCORE 100+',\n",
       "       'Babolat RPM Blast 17/1.25 String', 'Babolat Pure Drive Team 2021',\n",
       "       'Yonex EZONE 100L', 'Yonex VCORE 100L',\n",
       "       'Babolat Pure Aero 6 Pack Bag Black/Yellow',\n",
       "       'Babolat Pure Aero Team', 'Babolat Pure Aero', 'Fabio Fognini',\n",
       "       'Karolina Pliskova', 'Sofia Kenin', 'Garbine Muguruza',\n",
       "       'Volkl V-Cell 8 300g', 'Yonex EZONE 100 2022',\n",
       "       'Babolat Basic Logo Hat II', 'Babolat Pure Drive RH x12 Bag',\n",
       "       'Babolat Pure Drive/+/Team/Lite/Tour/Tour+ Grommet 2021',\n",
       "       'Babolat Pure Aero Plus', 'Prince Twistpower X100',\n",
       "       'Babolat Duffel M Wimbledon Bag',\n",
       "       'Babolat Pure Backpack Wimbledon Bag',\n",
       "       'Babolat Wimbledon Cooler Bag', 'Babolat Pure Aero Tour',\n",
       "       'Volkl V-Cell 8 315g', 'Yonex EZONE 98 Tour',\n",
       "       'Babolat Pure Aero VS', 'Yonex EZONE 98',\n",
       "       'Babolat Pure Drive VS 9 Pack Bag',\n",
       "       'Babolat Pure Drive VS Grommet', 'Dunlop CX 200 OS',\n",
       "       'Dunlop FX 700', 'Prince O3 Legacy 105', 'ProKennex Ki 15 (260)',\n",
       "       'Babolat Pure Drive 107 2021 Grommet',\n",
       "       'Babolat Pure Drive RH x6 Bag', 'Head Graphene 360+ Extreme PWR',\n",
       "       'Prince O3 Legacy 110', 'Wilson Ultra 108 v3',\n",
       "       'Volkl V-Cell 8 285g', 'Wilson Ultra 100L v3',\n",
       "       'Babolat Pure Aero Lite', 'Dunlop FX 500 Lite',\n",
       "       'Babolat Pure Drive 110 2021', 'Babolat Pure Drive Team',\n",
       "       'Babolat Pure Drive 107', 'Babolat Pure Drive 110',\n",
       "       'Yonex EZONE 108', 'Prince Synergy 98', 'Wilson Blade 98 16x19 v8',\n",
       "       'Yonex VCORE PRO 97 310', 'Babolat Pure Line Grey Backpack Bag',\n",
       "       'Babolat Pure Strike 6-Pack Duffel Bag', 'Cameron Norrie',\n",
       "       'Alize Cornet', 'Head Boom Pro 2022', 'Yonex EZONE 98 2022',\n",
       "       'Babolat Pure Strike 16x19/Tour Grommet 2020', 'Dominic Thiem',\n",
       "       'Head Speed Pro 2022', 'Prince ATS Textreme Tour 100P',\n",
       "       'Tecnifibre TF40 305 (18x20)', 'Wilson Blade 98 18x20 v8',\n",
       "       'Babolat Pure Strike 18x20 Grommet 2020', 'Head Radical Pro',\n",
       "       'Prince ATS Textreme Tour 95', 'Volkl V-Cell 10 320g',\n",
       "       'Yonex VCORE PRO 97H 330 ', 'Anett Kontaveit',\n",
       "       'Head Speed MP 2022', 'Prince ATS Textreme Tour 100 290',\n",
       "       'Tecnifibre TFight 295 RS', 'Yonex VCORE PRO 100',\n",
       "       'Babolat Pure Backpack Bag Black',\n",
       "       'Babolat Pure Strike Team/100 Grommet 2020', 'Head Gravity S',\n",
       "       'Wilson Blade 104 v8', 'Babolat Pure Strike 103 Grommet',\n",
       "       'Prince Textreme Tour 100 (290)', 'Yonex VCORE PRO 100 280 (2019)',\n",
       "       'Wilson Blade 98 16x19 v7', 'Yonex VCORE PRO 97 310 (2019)',\n",
       "       'Head Radical S', 'Volkl V1 Classic', 'Wilson Clash 100L',\n",
       "       'Yonex EZONE Ace', 'Babolat Pure Strike 100 3rd Gen',\n",
       "       'Babolat Pure Strike Team 3rd Gen', 'Head Instinct PWR 115 2022',\n",
       "       'Yonex ASTREL 115', 'Babolat Pro Tacky Overgrips',\n",
       "       'Volkl V-Cell 2', 'Babolat EVO Drive Lite W',\n",
       "       'Babolat EVO Drive Lite', 'Babolat EVO Drive',\n",
       "       'Babolat EVOKE 102 W', 'Babolat EVOKE 102', 'Babolat EVOKE 105',\n",
       "       'Head Graphene 360+ Extreme Lite', 'Yonex ASTREL 105',\n",
       "       'Yonex EZONE Feel 2022', 'Babolat EVO Drive 115',\n",
       "       'Yonex EZONE 105 2022', 'Volkl V-Cell 5', 'Wilson Clash 100UL',\n",
       "       'Babolat Boost Aero Rafa', 'Babolat Pure Aero Rafa Lite',\n",
       "       'Yonex EZONE 105', 'Babolat Boost Drive W', 'Babolat Boost Drive',\n",
       "       'Babolat Boost Aero Yellow', 'Babolat Boost S (Strike)',\n",
       "       'Volkl V-Feel V1 MP', 'Babolat Boost Aero W', 'Lacoste L20L',\n",
       "       'Babolat Pure Strike 103', 'Head Gravity MP',\n",
       "       'Wilson NXT 16/1.30 String Black', 'Wilson Pro Feel Dampener',\n",
       "       'Wilson Pro Overgrip 3 Pack', 'Wilson Super Tour 6 Pack Clash Bag',\n",
       "       'Wilson NXT 16/1.30 String Natural',\n",
       "       'Wilson Revolve 17/1.25 String',\n",
       "       'Wilson Super Tour 9 Pack Clash Bag', 'Wilson Clash 100 Pro v2',\n",
       "       'Wilson Clash 100 v2', 'Wilson Clash 100UL v2',\n",
       "       'Wilson Clash 108 v2', 'Wilson Clash 98 v2',\n",
       "       'Babolat Pure Strike EVO', 'Head Speed Team L 2022',\n",
       "       'Wilson Clash 100L v2', 'Prince Twistpower X105 (290g)',\n",
       "       'Wilson Clash 108 v2 Grommet', 'Yonex EZONE 100',\n",
       "       'Wilson Clash 100 Pro (Formerly Tour)', 'Wilson Clash 98',\n",
       "       'Prince Textreme Tour 100 (310)', 'Wilson Clash 100',\n",
       "       'Babolat Pure Strike 16x19 3rd Gen',\n",
       "       'Head Graphene 360+ Speed MP Racquets', 'Volkl V-Cell 4',\n",
       "       'Wilson Clash 100 Silver', 'Wilson Clash 100 Pro Silver',\n",
       "       'Wilson Clash 100S', 'Jenson Brooksby', 'Alex de Minaur',\n",
       "       'Paula Badosa', 'Amanda Anisimova', 'Simona Halep',\n",
       "       'Emma Raducanu', 'Elina Svitolina', 'Head Radical MP',\n",
       "       'Volkl V-Cell V1 Pro', 'Wilson Blade Backpack Bag',\n",
       "       'Wilson Revolve 16/1.30 String', 'Stefanos Tsitsipas',\n",
       "       'Pablo Carreno Busta', 'David Goffin', 'Karen Khachanov',\n",
       "       'Sebastian Korda', 'Tommy Paul', 'Milos Raonic', 'Lorenzo Sonego',\n",
       "       'Aryna Sabalenka', 'Madison Keys', 'Jelena Ostapenko',\n",
       "       'Shelby Rogers', 'Babolat Pure Strike 18x20 3rd Gen',\n",
       "       'Head Prestige MP', 'Yonex VCORE PRO 97D 320 ',\n",
       "       'Wilson Blade 9 Pack Bag', 'Wilson NXT Power 16/1.30 String',\n",
       "       'Venus Williams', 'ProKennex Ki Q+ 15', 'Dunlop CX 200',\n",
       "       'Prince Phantom 100X 305', 'Yonex VCORE PRO 100 300 (2019)',\n",
       "       'Wilson Blade 98 18x20 v7', 'Head Graphene 360+ Speed Pro',\n",
       "       'Prince Phantom 100X 18x20', 'Tecnifibre TF40 305',\n",
       "       'Yonex VCORE PRO 97HD 18x20 (2019)', 'Serena Williams',\n",
       "       'Prince Phantom 100G LB', 'Tecnifibre TFight 300 RS',\n",
       "       'Yonex VCORE 98', 'Wilson Blade 98L v6',\n",
       "       'Wilson Blade 98 16x19 v6', 'Roger Federer',\n",
       "       'Babolat Pure Strike Tour 3rd Gen', 'Prince Textreme Tour 95',\n",
       "       'Volkl C10 Pro', 'Yonex VCORE PRO 97 330 (2019)',\n",
       "       'Uniqlo RF Hat Black/White',\n",
       "       \"Wilson Champion's Choice Hybrid 16 String\",\n",
       "       'Wilson Pro Staff RF97 v13 Grommet',\n",
       "       'Wilson RF DNA 12 Pack Bag Infrared', 'Roberto Bautista Agut',\n",
       "       'Grigor Dimitrov', 'Reilly Opelka', 'Ons Jabeur', 'Petra Kvitova',\n",
       "       'Andrea Petkovic', 'Prince Phantom 97P',\n",
       "       'ProKennex Ki Q+ Tour Pro 315', 'Wilson Pro Staff 97 v13 Grommet',\n",
       "       'Wilson Revolve Spin 17/1.25 String',\n",
       "       'Wilson Super Tour 15 PK Pro Staff Black Bag',\n",
       "       'Dunlop CX 200 Tour 16x19', 'Head Gravity Tour',\n",
       "       'Wilson Super Tour Backpack Pro Staff Black Bag',\n",
       "       'Yonex VCORE 98L', 'Uniqlo RF Hat Navy/White',\n",
       "       'Wilson Pro Staff 97 v13', 'Wilson Pro Staff 97L v13',\n",
       "       'Wilson Pro Staff RF97 v13',\n",
       "       'Wilson Super Tour 9 PK Pro Staff Black Bag', 'Borna Coric',\n",
       "       'Feliciano Lopez', 'Kei Nishikori', 'Victoria Azarenka',\n",
       "       'Kaia Kanepi', 'Kristina Mladenovic', 'Maria Sakkari',\n",
       "       'Ajla Tomljanovic', 'Dunlop FX 500',\n",
       "       'Head Graphene 360+ Instinct MP',\n",
       "       'Wilson Ultra 100/100L/100UL V3 Grommet',\n",
       "       'Wilson Ultra Blue 9 Pack Bag', 'Dunlop FX 500 LS',\n",
       "       'Wilson Ultra 100 v3', 'Wilson Ultra 100UL v3',\n",
       "       'Wilson Ultra 100 v2', 'Wilson Ultra 100L v2',\n",
       "       'Anastasia Pavlyuchenkova', 'ProKennex Ki 10 (305)',\n",
       "       'Wilson Burn 100 v4 Grommet', 'Wilson NXT 17/1.24 String Black',\n",
       "       'Wilson US Open Tour Backpack Bag Blue', 'Wilson Burn 100 v4',\n",
       "       'Wilson Burn 100LS v4', 'Wilson Burn 100ULS v4',\n",
       "       'Wilson Burn 100S v4', 'Head Titanium Ti.S6 Strung',\n",
       "       'Wilson Triad Five', 'Wilson Triad Three',\n",
       "       'Wilson Pro Overgrip 3-Pack White', 'Novak Djokovic',\n",
       "       'Head Djokovic 12R Bag Black',\n",
       "       'Head Leather Tour Replacement Grip',\n",
       "       'Head Lynx Tour 17/1.25 String', 'Head Speed Pro 2022 Grommet',\n",
       "       'Jannik Sinner', 'Bianca Andreescu', 'Karolina Muchova',\n",
       "       'Martina Trevisan', 'Dunlop CX 400 Tour',\n",
       "       'Head Lynx Touch 17/1.25 String', 'Head Pro Grip Blue Overgrip',\n",
       "       'Head Tour Team 12R Bag Black/Orange', 'Solinco Whiteout 290',\n",
       "       'Wilson Blade 100L v8', 'Head Core Backpack Bag Black/Grey',\n",
       "       'Head Reflex MLT 16/1.30 String',\n",
       "       'Head Speed Team/Team L 2022 Grommet', 'Yonex EZONE Feel',\n",
       "       'Head Djokovic Backpack Bag Black',\n",
       "       'Head Velocity MLT 16/1.30 String', 'Nikoloz Basilashvili',\n",
       "       'Head Gravity Pro', 'Prince Textreme Tour 100P',\n",
       "       'Volkl V-Feel V8 Pro', 'Fernando Verdasco', 'Lorenzo Musetti',\n",
       "       'Prince Twistpower X100 Tour', 'ProKennex Ki Q+ 5',\n",
       "       'Head Boom Pro 2022 Grommet', 'Head Lynx Tour 16/1.30 String',\n",
       "       'Head Prime Tour Overgrip', 'Head Tour Team 6R Bag Black/Mint',\n",
       "       'Coco Gauff', 'Head Boom MP 2022 Grommet', 'Volkl V-Cell V1 MP',\n",
       "       'Yonex EZONE Ace 2022', 'Head Core 3R Pro Bag Black/Grey',\n",
       "       'Babolat Pure Drive 107 2021', 'Yonex EZONE 110 2022',\n",
       "       'Head Djokovic Dampener', 'Head XtremeSoft Overgrips 3 Pack',\n",
       "       'Andy Murray', 'Tecnifibre TFight 315 RS',\n",
       "       'Head Prestige Pro Overgrips',\n",
       "       'Head Radical 12R Monstercombi Bag Grey/Orange',\n",
       "       'Head Radical Pro/MP 2021 Grommet', 'Taylor Fritz',\n",
       "       'Diego Schwartzman', 'Sloane Stephens', 'ProKennex Black Ace 300',\n",
       "       'Head Rebel Radical Backpack Bag Grey/Orange',\n",
       "       'Head Radical 6R Combi Bag Grey/Orange',\n",
       "       'Head Radical S 2021 Grommet', 'Head Graphene 360 Radical MP',\n",
       "       'Head Graphene 360 Radical Pro', 'Prince Classic Graphite 107',\n",
       "       'Prince Phantom 107G', 'Dunlop CX 200 Tour 18x20',\n",
       "       'Head Graphene 360+ Gravity Tour Grommet',\n",
       "       'Head Gravity Backpack Bag Black', 'Alexander Zverev',\n",
       "       'Andrey Rublev', 'Head Graphene 2021/ 360+ Gravity Pro Grommet',\n",
       "       'Head Gravity 12R Duffel Bag Black',\n",
       "       'Head Graphene 2021/ 360+ Gravity S & Lite Grommet',\n",
       "       'Head Graphene 360+/ 2021 Gravity MP & MP Lite Grommet',\n",
       "       'Marin Cilic', 'Aslan Karatsev', 'Head Pro Tour 2.0',\n",
       "       'ProKennex Ki Q+ Tour Pro 325', 'Head Prestige Pro 2021 Grommet',\n",
       "       'Head Prestige Tour 2021 Grommet', 'Tecnifibre TFight 305 RS',\n",
       "       'Head Prestige MP 2021 Grommet', 'ProKennex Ki Q+ 5 Pro',\n",
       "       'Matteo Berrettini', 'Alejandro Davidovich Fokina',\n",
       "       'Richard Gasquet', 'Jan-Lennard Struff', 'Barbora Krejcikova',\n",
       "       'Babolat Pure Aero Rafa', 'Dunlop SX 300',\n",
       "       'Head Graphene 360+ Extreme MP Grommet',\n",
       "       'Head Tour Team Extreme 6R Combi Bag Yellow/Grey',\n",
       "       'Dunlop SX 300 Tour', 'Prince ATS Textreme Tour 98',\n",
       "       'Head Tour Team Extreme Backpack Bag Yellow/Grey',\n",
       "       'Head Graphene 360+ Extreme S', 'Prince Legacy 120',\n",
       "       'ProKennex Ki Q+ 30', 'Head Graphene 360+ Extreme S/Lite Grommet',\n",
       "       'Head Graphene 360 Extreme MP', 'Head Graphene 360 Extreme Pro',\n",
       "       'Head Instinct MP 2022 Grommet', 'Prince Warrior 107',\n",
       "       'Head Instinct MP 2022', 'Head Instinct PWR 110 2022',\n",
       "       'Head Instinct Team L 2022', 'Head Graphene XT Instinct MP',\n",
       "       'Babolat Drive G', 'Prince Phantom 93P (18x20)',\n",
       "       'Tecnifibre TF40 315', 'Head Core 6R Combi Bag Black/Grey',\n",
       "       'Head Tour Team Backpack Bag Red/Black', 'Head Prestige Tour',\n",
       "       'Yonex VCORE 95', 'Prince ResiPro Overgrip',\n",
       "       'Prince Tour Future 6 Pack Bag Black/Green',\n",
       "       'Prince Vortex 16/1.30 Gauge String',\n",
       "       'Tecnifibre TF40 305 (16x19)',\n",
       "       'Prince Vortex 18/1.20 Gauge String',\n",
       "       'Prince Court Packable Backpack Bag',\n",
       "       'Prince P Dampener 2-Pack Black',\n",
       "       'Prince Vortex 17/1.25 Gauge String',\n",
       "       'Wilson Pro Staff Six.One 100 v13', 'Prince Phantom 100X 290',\n",
       "       'Prince Tour 12 Pack Bag - Black/Reflective',\n",
       "       'Prince TackyPro 3 Pack Overgrip White',\n",
       "       'Prince Tour Evo Backpack Bag Black',\n",
       "       'Prince DuraPro+ 3 Pack Overgrip',\n",
       "       'Prince Tour Backpack Duffelpack Bag Black/Green',\n",
       "       'Prince Premier Control 16/1.30 String',\n",
       "       'Prince Ripstick 100 (300g/280g) Grommets',\n",
       "       'Prince Tour Evo 12 Pack Racquet Bag Black',\n",
       "       'Prince Textreme Warrior 100 Grommet', 'Prince Warrior 100 (300g)',\n",
       "       'Head MicroGEL Radical Oversize', 'Prince Phantom 107G Grommet',\n",
       "       'ProKennex Black Ace 315', 'Prince Phantom 100G/100G LB Grommet',\n",
       "       'Prince Tour XC 16L/1.27 String',\n",
       "       'Prince Phantom 93P (14x18) Grommet', 'Prince Phantom 97P Grommet',\n",
       "       'Prince Vortex Triad 16/1.30 Gauge String',\n",
       "       'Prince Phantom 100P Grommet', 'ProKennex Ki Black Ace Pro',\n",
       "       'Prince Phantom Pro 100 & Phantom 100X Grommet',\n",
       "       'Prince Tour 9 Pack Bag Black/Green',\n",
       "       'Prince Phantom 100X (18x20) Grommet',\n",
       "       'Prince Phantom 100 (2017) & O3 100X Grommet',\n",
       "       'Prince Vortex Triad 17/1.25 Gauge String',\n",
       "       'Prince Phantom Pro 100', 'Prince Synergy 98 Grommets',\n",
       "       'Volkl V-Cell 9', 'Prince Phantom 100P',\n",
       "       'Prince CTS Synergy DB26 Grommet',\n",
       "       'ProKennex Kinetic Pro 5G Classic',\n",
       "       'Prince Classic Graphite 107 Bumper Grommet ',\n",
       "       'Prince O3 Legacy 120', 'Lloyd Harris', 'Nick Kyrgios',\n",
       "       'Denis Shapovalov', 'Naomi Osaka', 'Jessica Pegula',\n",
       "       'Anastasija Sevastova', 'Coco Vandeweghe',\n",
       "       \"Yonex Men's 2022 Logo Hat\", 'Yonex POLYTOUR REV 16L/1.25 String',\n",
       "       'Yonex Pro Racquet 12 Pack Bag Blue', 'Yonex Super Grap Overgrip',\n",
       "       'Casper Ruud', 'Belinda Bencic', 'Sorana Cirstea',\n",
       "       'Marketa Vondrousova', 'Yonex Team Racquet 6 Pack Bag Blue',\n",
       "       'Yonex EZONE 98L 2022', 'Tecnifibre TF-X1 275',\n",
       "       'Yonex EZONE Game 2022', 'Yonex EZONE 100SL 2022', 'Steve Johnson',\n",
       "       'Yonex EZONE 98+', 'Yonex EZONE 98/98+/98L/Tour Grommet',\n",
       "       'Yonex EZONE 98L', 'Yonex VCORE 98+', 'Hubert Hurkacz',\n",
       "       'Stanislas Wawrinka',\n",
       "       'Yonex VCORE PRO 97 310/97H 330 (2021) Grommet',\n",
       "       'Pierre-Hugues Herbert', 'Frances Tiafoe',\n",
       "       'Yonex VCORE PRO 97D 320 (2021) Grommet', 'Prince Phantom 100G',\n",
       "       'Yonex Pro Backpack Large Bag Blue',\n",
       "       'Yonex VCORE PRO 100 (2021) Grommet', 'Dunlop CX 400',\n",
       "       'Yonex Team Racquet Backpack Bag Red',\n",
       "       'Yonex VCORE 95 (2021) Grommet',\n",
       "       'Yonex Pro Racquet 9 Pack Bag Red',\n",
       "       'Yonex VCORE 98/+/98L (2021) Grommet', 'Eugenie Bouchard',\n",
       "       'Caroline Garcia', 'Angelique Kerber', 'Elena Rybakina',\n",
       "       'Donna Vekic', 'Yonex Pro Racquet 6 Pack Bag Red',\n",
       "       'Yonex VCORE 100/+/100L (2021) Grommet',\n",
       "       'Prince Ripstick 100 280g', 'Yonex VCORE Feel', 'Yonex VCORE Ace',\n",
       "       'Yonex Rexis Speed 16/1.30 String Natural', 'Yonex ASTREL 100',\n",
       "       'Miomir Kecmanovic', 'Michael Mmoh',\n",
       "       'Dunlop Explosive Spin 16/1.30 String',\n",
       "       'Dunlop Gecko-Tac Overgrip',\n",
       "       'Dunlop SX Performance 12 Pack Bag Black/Yellow',\n",
       "       'Dunlop Black Widow 17/1.26 String', 'Dunlop SX 300 Lite',\n",
       "       'Dunlop SX 600', 'Dunlop SX 300 LS',\n",
       "       'Dunlop CX Performance 8 Pack Bag Black',\n",
       "       'Dunlop CX Performance Backpack Bag Black',\n",
       "       'Dunlop Silk 16/1.32 String',\n",
       "       'Dunlop CX Club 6 Pack Bag Black/Red', 'Dunlop U-Sweat Overgrip ',\n",
       "       'Dunlop CX Club Backpack Bag Black/Red',\n",
       "       'Dunlop FX Performance 8 Pack Bag Black/Blue',\n",
       "       'Dunlop Super Tac Overgrip Black', 'Qiang Wang',\n",
       "       'Dunlop FX 500 Tour Grommet',\n",
       "       'Dunlop FX Performance Backpack Bag Black/Blue',\n",
       "       'Dunlop Viper Dry Overgrip', 'Wilson Hyper Hammer 5.3 Stretch OS',\n",
       "       'Dunlop CX Club Backpack Bag Black',\n",
       "       'Tecnifibre ATP Pro Contact 3 Pack Overgrip',\n",
       "       'Tecnifibre Ice Code 17/1.25 String ',\n",
       "       'Tecnifibre Tour Endurance RS Backpack Bag',\n",
       "       'Tecnifibre ATP Pro Players 3 Pack Overgrip',\n",
       "       'Tecnifibre Razor Code 16/1.30 String White',\n",
       "       'Tecnifibre Tour Endurance RS Rackpack XL Bag',\n",
       "       'Tecnifibre Razor Code 17/1.25 String Blue',\n",
       "       'Tecnifibre Tour Endurance RS 12R Bag', 'Daniil Medvedev',\n",
       "       'Jeremy Chardy', 'Tecnifibre Razor Code 17/1.25 String White',\n",
       "       'Tecnifibre TFight 305/320 XTC & RS Grommet', 'John Millman',\n",
       "       \"Tecnifibre Iga's & TFight 300/315 Dyna/XTC/RS Grommet\",\n",
       "       'Tecnifibre NRG2 16/1.32 String Natural',\n",
       "       'Tecnifibre Tour Endurance RS 6R Bag',\n",
       "       'Tecnifibre Team Dry Stand Backpack Bag',\n",
       "       'Tecnifibre X-One Biphase 16/1.30 String ',\n",
       "       'Tecnifibre Multifeel 16/1.30 String Natural',\n",
       "       'Tecnifibre TF-X1 300/285 Grommet', 'Tecnifibre TF-X1 285',\n",
       "       'Tecnifibre TF-X1 300', 'Iga Swiatek', 'Elise Mertens'],\n",
       "      dtype=object)"
      ]
     },
     "execution_count": 11,
     "metadata": {},
     "output_type": "execute_result"
    }
   ],
   "source": [
    "player_df['Player'].unique()"
   ]
  },
  {
   "cell_type": "markdown",
   "id": "c6097944",
   "metadata": {},
   "source": [
    "Players using the racquet and related products are located in the same section, so some of the rows in the above dataframe are not player names. I will remove these extra rows below."
   ]
  },
  {
   "cell_type": "code",
   "execution_count": 12,
   "id": "96b7231d",
   "metadata": {},
   "outputs": [],
   "source": [
    "player_df['Player'] = player_df['Player'].apply(lambda x: x if 'Tecnifibre' not in x and 'Babolat' not in x \n",
    "                                              and 'Wilson' not in x and 'Yonex' not in x and 'Head' not in x \n",
    "                                              and 'Prince' not in x and 'Dunlop' not in x \n",
    "                                              and 'Nike' not in x and 'ProKennex' not in x and 'Lacoste' not in x \n",
    "                                              and 'Volkl' not in x and 'Solinco' not in x \n",
    "                                              and '/' not in x else 'False')"
   ]
  },
  {
   "cell_type": "code",
   "execution_count": 13,
   "id": "325025c6",
   "metadata": {},
   "outputs": [],
   "source": [
    "player_df = player_df[player_df['Player'] != 'False']"
   ]
  },
  {
   "cell_type": "markdown",
   "id": "5492c077",
   "metadata": {},
   "source": [
    "### Racquet Review Scores\n",
    "Some racquets have been reviewed by Tennis Warehouse, so I want to retrieve the review scores for all the racquets that have been reviewed."
   ]
  },
  {
   "cell_type": "code",
   "execution_count": 20,
   "id": "e592343c",
   "metadata": {},
   "outputs": [],
   "source": [
    "dfs = []\n",
    "for link in racquet_links:\n",
    "    response = requests.get(link, headers = headers)\n",
    "    soup = BeautifulSoup(response.text, 'html.parser')\n",
    "    try:\n",
    "        review_endpoint = soup.find('a', {'class':'btn btn-outline-dark btn-block ga_event'}).get('href')\n",
    "        review_link = 'https://www.tennis-warehouse.com' + str(review_endpoint)\n",
    "\n",
    "        response = requests.get(review_link, headers = headers)\n",
    "        soup = BeautifulSoup(response.text, 'html.parser')\n",
    "        scores = soup.find_all('div',{'class':'scores'})\n",
    "        html = pd.read_html(str(scores))\n",
    "        temp_df = pd.DataFrame(html[0])\n",
    "        temp_df.columns = ['Category','Score']\n",
    "        temp_df['Racquet Link'] = link\n",
    "        dfs.append(temp_df)\n",
    "    except:\n",
    "        pass"
   ]
  },
  {
   "cell_type": "code",
   "execution_count": 21,
   "id": "c14fe3f7",
   "metadata": {},
   "outputs": [],
   "source": [
    "review_df = pd.concat(dfs)"
   ]
  },
  {
   "cell_type": "code",
   "execution_count": 22,
   "id": "e378ea75",
   "metadata": {},
   "outputs": [
    {
     "data": {
      "text/html": [
       "<div>\n",
       "<style scoped>\n",
       "    .dataframe tbody tr th:only-of-type {\n",
       "        vertical-align: middle;\n",
       "    }\n",
       "\n",
       "    .dataframe tbody tr th {\n",
       "        vertical-align: top;\n",
       "    }\n",
       "\n",
       "    .dataframe thead th {\n",
       "        text-align: right;\n",
       "    }\n",
       "</style>\n",
       "<table border=\"1\" class=\"dataframe\">\n",
       "  <thead>\n",
       "    <tr style=\"text-align: right;\">\n",
       "      <th></th>\n",
       "      <th>Category</th>\n",
       "      <th>Score</th>\n",
       "      <th>Racquet Link</th>\n",
       "    </tr>\n",
       "  </thead>\n",
       "  <tbody>\n",
       "    <tr>\n",
       "      <th>0</th>\n",
       "      <td>Overall</td>\n",
       "      <td>86</td>\n",
       "      <td>https://www.tennis-warehouse.com/Babolat_Pure_Aero/descpageRCBAB-BPAR.html</td>\n",
       "    </tr>\n",
       "    <tr>\n",
       "      <th>1</th>\n",
       "      <td>Groundstrokes</td>\n",
       "      <td>89</td>\n",
       "      <td>https://www.tennis-warehouse.com/Babolat_Pure_Aero/descpageRCBAB-BPAR.html</td>\n",
       "    </tr>\n",
       "    <tr>\n",
       "      <th>2</th>\n",
       "      <td>Volleys</td>\n",
       "      <td>82</td>\n",
       "      <td>https://www.tennis-warehouse.com/Babolat_Pure_Aero/descpageRCBAB-BPAR.html</td>\n",
       "    </tr>\n",
       "    <tr>\n",
       "      <th>3</th>\n",
       "      <td>Serves</td>\n",
       "      <td>87</td>\n",
       "      <td>https://www.tennis-warehouse.com/Babolat_Pure_Aero/descpageRCBAB-BPAR.html</td>\n",
       "    </tr>\n",
       "    <tr>\n",
       "      <th>4</th>\n",
       "      <td>Returns</td>\n",
       "      <td>82</td>\n",
       "      <td>https://www.tennis-warehouse.com/Babolat_Pure_Aero/descpageRCBAB-BPAR.html</td>\n",
       "    </tr>\n",
       "  </tbody>\n",
       "</table>\n",
       "</div>"
      ],
      "text/plain": [
       "        Category  Score  \\\n",
       "0        Overall     86   \n",
       "1  Groundstrokes     89   \n",
       "2        Volleys     82   \n",
       "3         Serves     87   \n",
       "4        Returns     82   \n",
       "\n",
       "                                                                 Racquet Link  \n",
       "0  https://www.tennis-warehouse.com/Babolat_Pure_Aero/descpageRCBAB-BPAR.html  \n",
       "1  https://www.tennis-warehouse.com/Babolat_Pure_Aero/descpageRCBAB-BPAR.html  \n",
       "2  https://www.tennis-warehouse.com/Babolat_Pure_Aero/descpageRCBAB-BPAR.html  \n",
       "3  https://www.tennis-warehouse.com/Babolat_Pure_Aero/descpageRCBAB-BPAR.html  \n",
       "4  https://www.tennis-warehouse.com/Babolat_Pure_Aero/descpageRCBAB-BPAR.html  "
      ]
     },
     "execution_count": 22,
     "metadata": {},
     "output_type": "execute_result"
    }
   ],
   "source": [
    "review_df.head()"
   ]
  },
  {
   "cell_type": "code",
   "execution_count": 23,
   "id": "a52752aa",
   "metadata": {},
   "outputs": [],
   "source": [
    "review_df = pd.pivot(review_df, index = 'Racquet Link', columns = 'Category', values = 'Score').reset_index()"
   ]
  },
  {
   "cell_type": "markdown",
   "id": "fceacbc9",
   "metadata": {},
   "source": [
    "### Racquet Specs"
   ]
  },
  {
   "cell_type": "code",
   "execution_count": 25,
   "id": "a913258e",
   "metadata": {},
   "outputs": [],
   "source": [
    "racquet_names = list(racquet_info['Racquet'])\n",
    "\n",
    "dfs = []\n",
    "for link, racquet in zip(racquet_links, racquet_names):\n",
    "    response = requests.get(link, headers = headers)\n",
    "    soup = BeautifulSoup(response.text, 'html.parser')\n",
    "    specs = soup.find_all('table' ,{'class': None})\n",
    "    try:\n",
    "        html = pd.read_html(str(specs))\n",
    "        temp_df = pd.DataFrame(html[0])\n",
    "        temp_df.columns = ['Specs']\n",
    "        temp_df['Racquet'] = racquet\n",
    "        dfs.append(temp_df)\n",
    "    except:\n",
    "        pass"
   ]
  },
  {
   "cell_type": "code",
   "execution_count": 26,
   "id": "8bbd1178",
   "metadata": {},
   "outputs": [],
   "source": [
    "specs_df = pd.concat(dfs, ignore_index=True)"
   ]
  },
  {
   "cell_type": "code",
   "execution_count": 27,
   "id": "0a77424d",
   "metadata": {},
   "outputs": [],
   "source": [
    "# Creating a column that stores the racquet spec category name, and another column with the value\n",
    "specs_df['Spec'] = specs_df['Specs'].str.split(':').str[0]\n",
    "specs_df['Value'] = specs_df['Specs'].str.split(':').str[1]\n",
    "specs_df.drop('Specs',axis=1,inplace=True)"
   ]
  },
  {
   "cell_type": "code",
   "execution_count": 28,
   "id": "9bdcb0c7",
   "metadata": {},
   "outputs": [
    {
     "data": {
      "text/plain": [
       "Head Graphene 360+ Extreme PWR    40\n",
       "Head Instinct PWR 110 2022        30\n",
       "Head Graphene XT Instinct PWR     30\n",
       "Head Instinct PWR 115 2022        30\n",
       "Babolat Pure Strike VS            30\n",
       "                                  ..\n",
       "Prince Twistpower X100            15\n",
       "Prince Twistpower X105 (290g)     15\n",
       "Babolat Boost Aero Yellow         15\n",
       "Tecnifibre Tempo 298 Iga          15\n",
       "Head Titanium Ti.S6 Strung        14\n",
       "Name: Racquet, Length: 253, dtype: int64"
      ]
     },
     "execution_count": 28,
     "metadata": {},
     "output_type": "execute_result"
    }
   ],
   "source": [
    "specs_df['Racquet'].value_counts()"
   ]
  },
  {
   "cell_type": "markdown",
   "id": "0a993c13",
   "metadata": {},
   "source": [
    "It appears that some products are listed twice on the website, so there are duplicate racquets in this dataframe. There are 14-15 racquet spec categories, so any racquet showing more than a value of 15 above is a duplicate."
   ]
  },
  {
   "cell_type": "code",
   "execution_count": 29,
   "id": "b273fbd0",
   "metadata": {},
   "outputs": [],
   "source": [
    "# Dropping duplicates\n",
    "specs_df['concat'] = specs_df['Racquet']+'-'+specs_df['Spec']\n",
    "\n",
    "specs_df = specs_df.reset_index()\n",
    "specs_df = specs_df.sort_values(['Racquet','concat','index'])\n",
    "\n",
    "specs_df = specs_df.drop_duplicates(subset=['concat'],keep='first')\n",
    "specs_df.drop(['index','concat'],axis=1,inplace=True)"
   ]
  },
  {
   "cell_type": "code",
   "execution_count": 30,
   "id": "c5dc8127",
   "metadata": {},
   "outputs": [],
   "source": [
    "# Reshaping the df so that each spec category will be a column\n",
    "specs_df = pd.pivot(specs_df, index='Racquet', columns='Spec', values='Value')\n",
    "specs_df = specs_df.reset_index()"
   ]
  },
  {
   "cell_type": "code",
   "execution_count": 31,
   "id": "b6c6a7a7",
   "metadata": {},
   "outputs": [],
   "source": [
    "# Selecting only desired racquet specs\n",
    "specs_df = specs_df[['Racquet','Head Size','Length','Strung Weight','Balance',\n",
    "                    'Swingweight','Stiffness', 'Beam Width',\n",
    "                    'Composition','Power Level', 'Stroke Style', \n",
    "                     'Swing Speed', 'Racquet Colors', 'Grip Type',\n",
    "                     'String Pattern', 'String Tension']]"
   ]
  },
  {
   "cell_type": "code",
   "execution_count": 32,
   "id": "59f671b5",
   "metadata": {},
   "outputs": [],
   "source": [
    "# Cleaning columns to remove extra unwanted characters\n",
    "\n",
    "specs_df['Head Size'] = specs_df['Head Size'].str.split('in').str[0]\n",
    "specs_df['Head Size'] = specs_df['Head Size'].str.replace(\"[^0-9]\", '')\n",
    "\n",
    "specs_df['Length'] = specs_df['Length'].str.split('in').str[0]\n",
    "\n",
    "specs_df['Strung Weight'] = specs_df['Strung Weight'].str.split('oz').str[0]\n",
    "\n",
    "specs_df['Balance'] = specs_df['Balance'].str.split('cm / ').str[1]\n",
    "\n",
    "specs_df['Stiffness'] = specs_df['Stiffness'].str.replace(\"[^0-9]\", '')\n",
    "\n",
    "specs_df['String Pattern'] = specs_df['String Pattern'].str.replace(\"[^0-9]\", '')\n",
    "specs_df['String Pattern'] = specs_df['String Pattern'].str[0:2] + 'x' + specs_df['String Pattern'].str[2:4]\n",
    "specs_df['String Pattern'] = specs_df['String Pattern'].apply(lambda x: x.lstrip())"
   ]
  },
  {
   "cell_type": "code",
   "execution_count": 33,
   "id": "40113e27",
   "metadata": {},
   "outputs": [],
   "source": [
    "cols = specs_df.columns\n",
    "specs_df[cols] = specs_df.apply(pd.to_numeric, errors='ignore')"
   ]
  },
  {
   "cell_type": "code",
   "execution_count": 34,
   "id": "b680689c",
   "metadata": {
    "scrolled": true
   },
   "outputs": [
    {
     "data": {
      "text/html": [
       "<div>\n",
       "<style scoped>\n",
       "    .dataframe tbody tr th:only-of-type {\n",
       "        vertical-align: middle;\n",
       "    }\n",
       "\n",
       "    .dataframe tbody tr th {\n",
       "        vertical-align: top;\n",
       "    }\n",
       "\n",
       "    .dataframe thead th {\n",
       "        text-align: right;\n",
       "    }\n",
       "</style>\n",
       "<table border=\"1\" class=\"dataframe\">\n",
       "  <thead>\n",
       "    <tr style=\"text-align: right;\">\n",
       "      <th>Spec</th>\n",
       "      <th>Racquet</th>\n",
       "      <th>Head Size</th>\n",
       "      <th>Length</th>\n",
       "      <th>Strung Weight</th>\n",
       "      <th>Balance</th>\n",
       "      <th>Swingweight</th>\n",
       "      <th>Stiffness</th>\n",
       "      <th>Beam Width</th>\n",
       "      <th>Composition</th>\n",
       "      <th>Power Level</th>\n",
       "      <th>Stroke Style</th>\n",
       "      <th>Swing Speed</th>\n",
       "      <th>Racquet Colors</th>\n",
       "      <th>Grip Type</th>\n",
       "      <th>String Pattern</th>\n",
       "      <th>String Tension</th>\n",
       "    </tr>\n",
       "  </thead>\n",
       "  <tbody>\n",
       "    <tr>\n",
       "      <th>0</th>\n",
       "      <td>Babolat Boost Aero Rafa</td>\n",
       "      <td>102</td>\n",
       "      <td>27.0</td>\n",
       "      <td>9.8</td>\n",
       "      <td>2 pts HH</td>\n",
       "      <td>306</td>\n",
       "      <td>67.0</td>\n",
       "      <td>23mm / 26mm / 23mm</td>\n",
       "      <td>Graphite</td>\n",
       "      <td>Low-Medium</td>\n",
       "      <td>Medium-Full</td>\n",
       "      <td>Medium-Fast</td>\n",
       "      <td>Black/Yellow/Purple</td>\n",
       "      <td>Babolat Uptake</td>\n",
       "      <td>16x19</td>\n",
       "      <td>50-55 pounds</td>\n",
       "    </tr>\n",
       "    <tr>\n",
       "      <th>1</th>\n",
       "      <td>Babolat Boost Aero W</td>\n",
       "      <td>102</td>\n",
       "      <td>27.0</td>\n",
       "      <td>9.8</td>\n",
       "      <td>2 pts HH</td>\n",
       "      <td>306</td>\n",
       "      <td>67.0</td>\n",
       "      <td>23mm / 26mm / 23mm</td>\n",
       "      <td>Graphite</td>\n",
       "      <td>Low-Medium</td>\n",
       "      <td>Medium-Full</td>\n",
       "      <td>Medium-Fast</td>\n",
       "      <td>Black/Pink</td>\n",
       "      <td>Babolat Uptake</td>\n",
       "      <td>16x19</td>\n",
       "      <td>50-55 pounds</td>\n",
       "    </tr>\n",
       "    <tr>\n",
       "      <th>2</th>\n",
       "      <td>Babolat Boost Aero Yellow</td>\n",
       "      <td>102</td>\n",
       "      <td>27.0</td>\n",
       "      <td>9.8</td>\n",
       "      <td>2 pts HH</td>\n",
       "      <td>306</td>\n",
       "      <td>67.0</td>\n",
       "      <td>23mm / 26mm / 23mm</td>\n",
       "      <td>Graphite</td>\n",
       "      <td>Low-Medium</td>\n",
       "      <td>Medium-Full</td>\n",
       "      <td>Medium-Fast</td>\n",
       "      <td>Black/Yellow</td>\n",
       "      <td>Babolat Uptake</td>\n",
       "      <td>16x19</td>\n",
       "      <td>50-55 pounds</td>\n",
       "    </tr>\n",
       "    <tr>\n",
       "      <th>3</th>\n",
       "      <td>Babolat Boost Drive</td>\n",
       "      <td>105</td>\n",
       "      <td>27.0</td>\n",
       "      <td>9.6</td>\n",
       "      <td>3 pts HH</td>\n",
       "      <td>312</td>\n",
       "      <td>65.0</td>\n",
       "      <td>23mm / 26mm / 23mm</td>\n",
       "      <td>Graphite</td>\n",
       "      <td>Medium</td>\n",
       "      <td>Medium</td>\n",
       "      <td>Medium</td>\n",
       "      <td>Purple/Yellow/White</td>\n",
       "      <td>Babolat Synthetic</td>\n",
       "      <td>16x19</td>\n",
       "      <td>50-55 pounds</td>\n",
       "    </tr>\n",
       "    <tr>\n",
       "      <th>4</th>\n",
       "      <td>Babolat Boost Drive W</td>\n",
       "      <td>105</td>\n",
       "      <td>27.0</td>\n",
       "      <td>9.6</td>\n",
       "      <td>3 pts HH</td>\n",
       "      <td>312</td>\n",
       "      <td>65.0</td>\n",
       "      <td>23mm / 26mm / 23mm</td>\n",
       "      <td>Graphite</td>\n",
       "      <td>Medium</td>\n",
       "      <td>Medium</td>\n",
       "      <td>Medium</td>\n",
       "      <td>White</td>\n",
       "      <td>Babolat Synthetic</td>\n",
       "      <td>16x19</td>\n",
       "      <td>50-55 pounds</td>\n",
       "    </tr>\n",
       "  </tbody>\n",
       "</table>\n",
       "</div>"
      ],
      "text/plain": [
       "Spec                    Racquet  Head Size  Length  Strung Weight   Balance  \\\n",
       "0       Babolat Boost Aero Rafa        102    27.0            9.8  2 pts HH   \n",
       "1          Babolat Boost Aero W        102    27.0            9.8  2 pts HH   \n",
       "2     Babolat Boost Aero Yellow        102    27.0            9.8  2 pts HH   \n",
       "3           Babolat Boost Drive        105    27.0            9.6  3 pts HH   \n",
       "4         Babolat Boost Drive W        105    27.0            9.6  3 pts HH   \n",
       "\n",
       "Spec  Swingweight  Stiffness           Beam Width Composition  Power Level  \\\n",
       "0             306       67.0   23mm / 26mm / 23mm    Graphite   Low-Medium   \n",
       "1             306       67.0   23mm / 26mm / 23mm    Graphite   Low-Medium   \n",
       "2             306       67.0   23mm / 26mm / 23mm    Graphite   Low-Medium   \n",
       "3             312       65.0   23mm / 26mm / 23mm    Graphite       Medium   \n",
       "4             312       65.0   23mm / 26mm / 23mm    Graphite       Medium   \n",
       "\n",
       "Spec  Stroke Style   Swing Speed       Racquet Colors           Grip Type  \\\n",
       "0      Medium-Full   Medium-Fast  Black/Yellow/Purple      Babolat Uptake   \n",
       "1      Medium-Full   Medium-Fast           Black/Pink      Babolat Uptake   \n",
       "2      Medium-Full   Medium-Fast         Black/Yellow      Babolat Uptake   \n",
       "3           Medium        Medium  Purple/Yellow/White   Babolat Synthetic   \n",
       "4           Medium        Medium                White   Babolat Synthetic   \n",
       "\n",
       "Spec String Pattern String Tension  \n",
       "0             16x19   50-55 pounds  \n",
       "1             16x19   50-55 pounds  \n",
       "2             16x19   50-55 pounds  \n",
       "3             16x19   50-55 pounds  \n",
       "4             16x19   50-55 pounds  "
      ]
     },
     "execution_count": 34,
     "metadata": {},
     "output_type": "execute_result"
    }
   ],
   "source": [
    "specs_df.head()"
   ]
  },
  {
   "cell_type": "code",
   "execution_count": 35,
   "id": "02b58dd2",
   "metadata": {},
   "outputs": [
    {
     "name": "stdout",
     "output_type": "stream",
     "text": [
      "<class 'pandas.core.frame.DataFrame'>\n",
      "RangeIndex: 253 entries, 0 to 252\n",
      "Data columns (total 16 columns):\n",
      " #   Column          Non-Null Count  Dtype  \n",
      "---  ------          --------------  -----  \n",
      " 0   Racquet         253 non-null    object \n",
      " 1   Head Size       253 non-null    int64  \n",
      " 2   Length          253 non-null    float64\n",
      " 3   Strung Weight   253 non-null    float64\n",
      " 4   Balance         250 non-null    object \n",
      " 5   Swingweight     253 non-null    int64  \n",
      " 6   Stiffness       251 non-null    float64\n",
      " 7   Beam Width      253 non-null    object \n",
      " 8   Composition     253 non-null    object \n",
      " 9   Power Level     253 non-null    object \n",
      " 10  Stroke Style    252 non-null    object \n",
      " 11  Swing Speed     253 non-null    object \n",
      " 12  Racquet Colors  252 non-null    object \n",
      " 13  Grip Type       253 non-null    object \n",
      " 14  String Pattern  253 non-null    object \n",
      " 15  String Tension  253 non-null    object \n",
      "dtypes: float64(3), int64(2), object(11)\n",
      "memory usage: 31.8+ KB\n"
     ]
    }
   ],
   "source": [
    "specs_df.info()"
   ]
  },
  {
   "cell_type": "markdown",
   "id": "f4c75a53",
   "metadata": {},
   "source": [
    "#### Extended Length\n",
    "Creating a column to indicate whether the racquet has extended length, which is defined as greater than 27 inches. Having extended length can be helpful in gaining more reach for the ball."
   ]
  },
  {
   "cell_type": "code",
   "execution_count": 36,
   "id": "ca9a606b",
   "metadata": {},
   "outputs": [],
   "source": [
    "specs_df['Extended Length'] = specs_df['Length'] > 27"
   ]
  },
  {
   "cell_type": "markdown",
   "id": "c487079f",
   "metadata": {},
   "source": [
    "#### Mid-Tension\n",
    "Creating a column that contains the mid-tension, which is the midpoint tension value of the recommended string tension range."
   ]
  },
  {
   "cell_type": "code",
   "execution_count": 37,
   "id": "700d3a41",
   "metadata": {},
   "outputs": [],
   "source": [
    "specs_df['Mid-Tension'] = (specs_df['String Tension'].str[1:3].astype(int) + specs_df['String Tension'].str[4:6].astype(int))/2"
   ]
  },
  {
   "cell_type": "code",
   "execution_count": 38,
   "id": "bf12fed0",
   "metadata": {},
   "outputs": [],
   "source": [
    "racquet_df = pd.merge(specs_df, racquet_info, how = 'left', on = 'Racquet')"
   ]
  },
  {
   "cell_type": "code",
   "execution_count": 39,
   "id": "f1af0e30",
   "metadata": {},
   "outputs": [
    {
     "name": "stdout",
     "output_type": "stream",
     "text": [
      "<class 'pandas.core.frame.DataFrame'>\n",
      "Int64Index: 258 entries, 0 to 257\n",
      "Data columns (total 20 columns):\n",
      " #   Column           Non-Null Count  Dtype  \n",
      "---  ------           --------------  -----  \n",
      " 0   Racquet          258 non-null    object \n",
      " 1   Head Size        258 non-null    int64  \n",
      " 2   Length           258 non-null    float64\n",
      " 3   Strung Weight    258 non-null    float64\n",
      " 4   Balance          254 non-null    object \n",
      " 5   Swingweight      258 non-null    int64  \n",
      " 6   Stiffness        256 non-null    float64\n",
      " 7   Beam Width       258 non-null    object \n",
      " 8   Composition      258 non-null    object \n",
      " 9   Power Level      258 non-null    object \n",
      " 10  Stroke Style     257 non-null    object \n",
      " 11  Swing Speed      258 non-null    object \n",
      " 12  Racquet Colors   257 non-null    object \n",
      " 13  Grip Type        258 non-null    object \n",
      " 14  String Pattern   258 non-null    object \n",
      " 15  String Tension   258 non-null    object \n",
      " 16  Extended Length  258 non-null    bool   \n",
      " 17  Mid-Tension      258 non-null    float64\n",
      " 18  Price            258 non-null    float64\n",
      " 19  Link             258 non-null    object \n",
      "dtypes: bool(1), float64(5), int64(2), object(12)\n",
      "memory usage: 40.6+ KB\n"
     ]
    }
   ],
   "source": [
    "racquet_df.info()"
   ]
  },
  {
   "cell_type": "markdown",
   "id": "190f54a6",
   "metadata": {},
   "source": [
    "### How Expensive are these Racquets?"
   ]
  },
  {
   "cell_type": "code",
   "execution_count": 40,
   "id": "628edfd6",
   "metadata": {},
   "outputs": [
    {
     "data": {
      "image/png": "[encoded data removed]",
      "text/plain": [
       "<Figure size 576x504 with 1 Axes>"
      ]
     },
     "metadata": {},
     "output_type": "display_data"
    }
   ],
   "source": [
    "figure = plt.figure(figsize=(8,7))\n",
    "plt.hist(racquet_df['Price'])\n",
    "plt.title('Racquet Prices', fontsize=14, fontweight='bold')\n",
    "plt.show()"
   ]
  },
  {
   "cell_type": "code",
   "execution_count": 41,
   "id": "d3501f64",
   "metadata": {},
   "outputs": [
    {
     "data": {
      "text/plain": [
       "16x19    173\n",
       "16x18     32\n",
       "18x20     22\n",
       "16x20     12\n",
       "16x17      5\n",
       "18x19      4\n",
       "18x16      4\n",
       "14x21      2\n",
       "14x18      1\n",
       "18x18      1\n",
       "14x16      1\n",
       "16x16      1\n",
       "Name: String Pattern, dtype: int64"
      ]
     },
     "execution_count": 41,
     "metadata": {},
     "output_type": "execute_result"
    }
   ],
   "source": [
    "racquet_df['String Pattern'].value_counts()"
   ]
  },
  {
   "cell_type": "markdown",
   "id": "a0ea3217",
   "metadata": {},
   "source": [
    "### Racquet Stiffness Level\n",
    "The stiffer the racquet, the more powerful and stable the racquet is, though the more jarring the racquet will be on the arm."
   ]
  },
  {
   "cell_type": "code",
   "execution_count": 42,
   "id": "ebe1e686",
   "metadata": {},
   "outputs": [],
   "source": [
    "def stiffness(df):\n",
    "    if df['Stiffness'] <= 63:\n",
    "        return 'Flexible'\n",
    "    elif df['Stiffness'] > 68:\n",
    "        return 'Stiff'\n",
    "    else:\n",
    "        return 'Medium'"
   ]
  },
  {
   "cell_type": "code",
   "execution_count": 43,
   "id": "8f8a39db",
   "metadata": {},
   "outputs": [
    {
     "data": {
      "image/png": "[encoded data removed]",
      "text/plain": [
       "<Figure size 432x432 with 1 Axes>"
      ]
     },
     "metadata": {},
     "output_type": "display_data"
    }
   ],
   "source": [
    "racquet_df['Stiffness Level'] = racquet_df.apply(stiffness, axis = 1)\n",
    "\n",
    "figure = plt.figure(figsize=(6,6))\n",
    "plt.pie(racquet_df['Stiffness Level'].value_counts(), labels = list(racquet_df['Stiffness Level'].unique()),\n",
    "       colors = ['#66b3ff','#99ff99','#ffcc99'], autopct='%1.0f%%', textprops={'fontsize': 14})\n",
    "plt.title('Racquets by Stiffness Level', fontsize=14, fontweight='bold')\n",
    "plt.show()"
   ]
  },
  {
   "cell_type": "markdown",
   "id": "ca057916",
   "metadata": {},
   "source": [
    "### Which Brands are Most Common?"
   ]
  },
  {
   "cell_type": "code",
   "execution_count": 45,
   "id": "1a529916",
   "metadata": {},
   "outputs": [],
   "source": [
    "racquet_df['Brand'] = racquet_df['Racquet'].str.split(' ').str[0]"
   ]
  },
  {
   "cell_type": "code",
   "execution_count": 53,
   "id": "4c049749",
   "metadata": {},
   "outputs": [
    {
     "data": {
      "image/png": "[encoded data removed]",
      "text/plain": [
       "<Figure size 576x504 with 1 Axes>"
      ]
     },
     "metadata": {},
     "output_type": "display_data"
    }
   ],
   "source": [
    "figure = plt.figure(figsize=(8,7))\n",
    "racquet_df['Brand'].value_counts().plot(kind='bar')\n",
    "plt.xticks(rotation = 45)\n",
    "plt.title('# of Racquets by Brand', fontweight = 'bold', fontsize = 14)\n",
    "plt.show()"
   ]
  },
  {
   "cell_type": "markdown",
   "id": "b972697c",
   "metadata": {},
   "source": [
    "### Strung Weight and Stiffness\n",
    "Is there a relationship visible between strung weight and stiffness?"
   ]
  },
  {
   "cell_type": "code",
   "execution_count": 56,
   "id": "5502de15",
   "metadata": {},
   "outputs": [
    {
     "data": {
      "image/png": "[encoded data removed]",
      "text/plain": [
       "<Figure size 576x504 with 1 Axes>"
      ]
     },
     "metadata": {},
     "output_type": "display_data"
    }
   ],
   "source": [
    "figure = plt.figure(figsize=(8,7))\n",
    "sns.regplot(x=racquet_df['Strung Weight'], y = racquet_df['Stiffness'])\n",
    "plt.title('Stiffness vs. Strung Weight', fontweight= 'bold', fontsize = 14)\n",
    "plt.show()"
   ]
  },
  {
   "cell_type": "code",
   "execution_count": 61,
   "id": "87b51518",
   "metadata": {},
   "outputs": [
    {
     "data": {
      "text/plain": [
       "-0.36266915673685235"
      ]
     },
     "execution_count": 61,
     "metadata": {},
     "output_type": "execute_result"
    }
   ],
   "source": [
    "# Correlation coefficient of strung weight and stiffness\n",
    "racquet_df.corr()['Strung Weight']['Stiffness']"
   ]
  },
  {
   "cell_type": "markdown",
   "id": "305d2cc0",
   "metadata": {},
   "source": [
    "There is a low negative correlation between strung weight and stiffness. There are likely other more telling indicators of stiffness, such as the string pattern or the materials composition of the racquet."
   ]
  },
  {
   "cell_type": "markdown",
   "id": "b3caf521",
   "metadata": {},
   "source": [
    "## Tableau Dashboard\n",
    "For more visual analysis, see the Tableau dashboard link below\n",
    "\n",
    "[Link to Tableau](https://public.tableau.com/app/profile/r.prabhu/viz/SearchingforMyNextTennisRacquet/RacquetOverview)"
   ]
  }
 ],
 "metadata": {
  "kernelspec": {
   "display_name": "Python 3 (ipykernel)",
   "language": "python",
   "name": "python3"
  },
  "language_info": {
   "codemirror_mode": {
    "name": "ipython",
    "version": 3
   },
   "file_extension": ".py",
   "mimetype": "text/x-python",
   "name": "python",
   "nbconvert_exporter": "python",
   "pygments_lexer": "ipython3",
   "version": "3.9.7"
  }
 },
 "nbformat": 4,
 "nbformat_minor": 5
}
